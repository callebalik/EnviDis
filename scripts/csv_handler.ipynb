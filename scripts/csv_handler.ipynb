{
 "cells": [
  {
   "cell_type": "code",
   "execution_count": 8,
   "metadata": {
    "vscode": {
     "languageId": "ruby"
    }
   },
   "outputs": [],
   "source": [
    "import os\n",
    "import sys\n",
    "from IPython.display import display, HTML\n",
    "\n",
    "# Assuming config.py is in the parent directory of the notebook\n",
    "notebook_path = os.getcwd()\n",
    "project_root = os.path.dirname(notebook_path)\n",
    "\n",
    "sys.path.append(project_root)\n",
    "\n",
    "import config"
   ]
  },
  {
   "cell_type": "code",
   "execution_count": 14,
   "metadata": {
    "vscode": {
     "languageId": "ruby"
    }
   },
   "outputs": [],
   "source": [
    "import pandas as pd\n",
    "from pathlib import Path\n",
    "\n",
    "# Join the config.DATA_DIR with the relative path to the Excel file\n",
    "excel_file = Path(config.DATA_DIR) / 'dictionary' / 'environmentalphenomena_dictionary_v1.xlsx'\n",
    "\n",
    "\n",
    "# Read the Excel file\n",
    "df = pd.read_excel(excel_file)\n",
    "\n",
    "# Load terms and synonyms from the Excel file\n",
    "terms = df['term']\n",
    "synonyms = df['synonyms']\n"
   ]
  },
  {
   "cell_type": "code",
   "execution_count": 15,
   "metadata": {},
   "outputs": [
    {
     "name": "stdout",
     "output_type": "stream",
     "text": [
      "Unique terms from Column 1 and Column 3 exported to c:\\Users\\callebalik\\Code\\EnviDis\\data\\dictionary\\terms_and_synonyms.txt\n",
      "Unique terms from Column 1 and Column 3 exported to c:\\Users\\callebalik\\Code\\EnviDis\\data\\dictionary\\terms_and_synonyms.txt\n"
     ]
    }
   ],
   "source": [
    "txt_file_path = Path(config.DIC_DIR) / 'terms_and_synonyms.txt'\n",
    "\n",
    "def export_terms_to_text_file(df, txt_file_path):\n",
    "    \"\"\"\n",
    "    Export unique terms from the DataFrame to a text file.\n",
    "\n",
    "    Parameters:\n",
    "    - df: pandas DataFrame\n",
    "        The DataFrame containing the terms.\n",
    "    - txt_file_path: str or pathlib.Path\n",
    "        The path to the output text file.\n",
    "\n",
    "    Returns:\n",
    "    - None\n",
    "    \"\"\"\n",
    "    # Corrected: Concatenate the two columns\n",
    "    terms = pd.concat([df['term'], df['synonyms']])\n",
    "\n",
    "    # Remove duplicates\n",
    "    unique_terms = terms.drop_duplicates()\n",
    "\n",
    "    # Convert to string and join with commas\n",
    "    terms_str = ','.join(unique_terms.astype(str))\n",
    "\n",
    "    # Export to a text file\n",
    "    with open(txt_file_path, 'w') as file:\n",
    "        # Replace semicolons with commas, as commas are used in column of synonyms\n",
    "        terms_str = terms_str.replace(';', ',')\n",
    "        file.write(terms_str)\n",
    "    print(f\"Unique terms from Column 1 and Column 3 exported to {txt_file_path}\")\n",
    "\n",
    "\n",
    "# Call the function\n",
    "export_terms_to_text_file(df, txt_file_path)\n",
    "\n",
    "# Extract synonyms and replace ; with , for use in the text file\n",
    "syn_comma_formatted = df['synonyms'].str.replace(';', ',')\n",
    "\n",
    "# Corrected: Concatenate the two columns\n",
    "all_terms = pd.concat([df['term'], df['synonyms']])\n",
    "\n",
    "all_terms = all_terms.str.replace(';', ',')\n",
    "# Remove duplicates\n",
    "unique_terms = all_terms.drop_duplicates()\n",
    "\n",
    "# Convert to string and join with commas\n",
    "terms_str = ','.join(unique_terms.astype(str))\n",
    "\n",
    "# Export to a text file\n",
    "with open(txt_file_path, 'w') as file:\n",
    "    # Replace semicolons with commas, as commas are used in column of synonyms\n",
    "    terms_str = terms_str.replace(';', ',')\n",
    "    file.write(terms_str)\n",
    "print(f\"Unique terms from Column 1 and Column 3 exported to {txt_file_path}\")"
   ]
  },
  {
   "cell_type": "code",
   "execution_count": null,
   "metadata": {
    "vscode": {
     "languageId": "ruby"
    }
   },
   "outputs": [],
   "source": []
  },
  {
   "cell_type": "code",
   "execution_count": null,
   "metadata": {
    "vscode": {
     "languageId": "ruby"
    }
   },
   "outputs": [],
   "source": [
    "# Convert to csv\n",
    "\n",
    "# Join the config.DATA_DIR with the relative path to the CSV file\n",
    "csv_file = Path(config.DATA_DIR) / 'dictionary' / 'environmentalphenomena_dictionary_v1.csv'\n",
    "\n",
    "# Convert the DataFrame to CSV\n",
    "df.to_csv(csv_file, index=False)"
   ]
  },
  {
   "cell_type": "code",
   "execution_count": 4,
   "metadata": {
    "vscode": {
     "languageId": "ruby"
    }
   },
   "outputs": [
    {
     "data": {
      "text/html": [
       "<div>\n",
       "<style scoped>\n",
       "    .dataframe tbody tr th:only-of-type {\n",
       "        vertical-align: middle;\n",
       "    }\n",
       "\n",
       "    .dataframe tbody tr th {\n",
       "        vertical-align: top;\n",
       "    }\n",
       "\n",
       "    .dataframe thead th {\n",
       "        text-align: right;\n",
       "    }\n",
       "</style>\n",
       "<table border=\"1\" class=\"dataframe\">\n",
       "  <thead>\n",
       "    <tr style=\"text-align: right;\">\n",
       "      <th></th>\n",
       "      <th>term</th>\n",
       "      <th>parent</th>\n",
       "      <th>synonyms</th>\n",
       "    </tr>\n",
       "  </thead>\n",
       "  <tbody>\n",
       "    <tr>\n",
       "      <th>0</th>\n",
       "      <td>Fog</td>\n",
       "      <td>parent</td>\n",
       "      <td>mist; fogginess; haze; haziness</td>\n",
       "    </tr>\n",
       "    <tr>\n",
       "      <th>1</th>\n",
       "      <td>Haar</td>\n",
       "      <td>Fog</td>\n",
       "      <td>sea fret; cold sea fog</td>\n",
       "    </tr>\n",
       "    <tr>\n",
       "      <th>2</th>\n",
       "      <td>Ice fog</td>\n",
       "      <td>Fog</td>\n",
       "      <td>frozen fog</td>\n",
       "    </tr>\n",
       "    <tr>\n",
       "      <th>3</th>\n",
       "      <td>wind</td>\n",
       "      <td>NaN</td>\n",
       "      <td>breeze</td>\n",
       "    </tr>\n",
       "    <tr>\n",
       "      <th>4</th>\n",
       "      <td>zephyr</td>\n",
       "      <td>wind</td>\n",
       "      <td>light wind; mild wind; western wind; West wind</td>\n",
       "    </tr>\n",
       "    <tr>\n",
       "      <th>...</th>\n",
       "      <td>...</td>\n",
       "      <td>...</td>\n",
       "      <td>...</td>\n",
       "    </tr>\n",
       "    <tr>\n",
       "      <th>170</th>\n",
       "      <td>solar flare</td>\n",
       "      <td>NaN</td>\n",
       "      <td>solar eruption</td>\n",
       "    </tr>\n",
       "    <tr>\n",
       "      <th>171</th>\n",
       "      <td>thunderhead</td>\n",
       "      <td>thunderstorm</td>\n",
       "      <td>NaN</td>\n",
       "    </tr>\n",
       "    <tr>\n",
       "      <th>172</th>\n",
       "      <td>storm front</td>\n",
       "      <td>storm</td>\n",
       "      <td>NaN</td>\n",
       "    </tr>\n",
       "    <tr>\n",
       "      <th>173</th>\n",
       "      <td>smog</td>\n",
       "      <td>NaN</td>\n",
       "      <td>NaN</td>\n",
       "    </tr>\n",
       "    <tr>\n",
       "      <th>174</th>\n",
       "      <td>eutrophication</td>\n",
       "      <td>NaN</td>\n",
       "      <td>NaN</td>\n",
       "    </tr>\n",
       "  </tbody>\n",
       "</table>\n",
       "<p>175 rows × 3 columns</p>\n",
       "</div>"
      ],
      "text/plain": [
       "               term        parent  \\\n",
       "0               Fog        parent   \n",
       "1              Haar           Fog   \n",
       "2           Ice fog           Fog   \n",
       "3              wind           NaN   \n",
       "4            zephyr          wind   \n",
       "..              ...           ...   \n",
       "170     solar flare           NaN   \n",
       "171     thunderhead  thunderstorm   \n",
       "172     storm front         storm   \n",
       "173            smog           NaN   \n",
       "174  eutrophication           NaN   \n",
       "\n",
       "                                           synonyms  \n",
       "0                   mist; fogginess; haze; haziness  \n",
       "1                            sea fret; cold sea fog  \n",
       "2                                        frozen fog  \n",
       "3                                            breeze  \n",
       "4    light wind; mild wind; western wind; West wind  \n",
       "..                                              ...  \n",
       "170                                  solar eruption  \n",
       "171                                             NaN  \n",
       "172                                             NaN  \n",
       "173                                             NaN  \n",
       "174                                             NaN  \n",
       "\n",
       "[175 rows x 3 columns]"
      ]
     },
     "metadata": {},
     "output_type": "display_data"
    }
   ],
   "source": [
    "from IPython.display import display\n",
    "\n",
    "display(df)"
   ]
  },
  {
   "cell_type": "code",
   "execution_count": null,
   "metadata": {
    "vscode": {
     "languageId": "ruby"
    }
   },
   "outputs": [],
   "source": []
  },
  {
   "cell_type": "code",
   "execution_count": 18,
   "metadata": {},
   "outputs": [
    {
     "name": "stdout",
     "output_type": "stream",
     "text": [
      "Unique terms from Column 1 and Column 3 exported to c:\\Users\\callebalik\\Code\\EnviDis\\data\\dictionary\\terms_and_synonyms.txt\n"
     ]
    }
   ],
   "source": [
    "all_terms = pd.concat([df['term'], df['synonyms']])\n",
    "\n",
    "# Step 2: Remove duplicates\n",
    "unique_terms = all_terms.drop_duplicates()\n",
    "\n",
    "# Step 3: Convert to string with each term on a new line\n",
    "# Note: If you need to replace ';' with ',', do it before joining the terms\n",
    "terms_str = '\\n'.join(unique_terms.astype(str).replace(';', ','))\n",
    "\n",
    "# Step 4: Export to a text file\n",
    "with open(txt_file_path, 'w') as file:\n",
    "    file.write(terms_str)\n",
    "\n",
    "print(f\"Unique terms from Column 1 and Column 3 exported to {txt_file_path}\")\n",
    "# with open(txt_file_path, 'w') as file:\n",
    "#     # Replace semicolons with commas, as commas are used in column of synonyms\n",
    "#     terms_str = terms_str.replace(';', ',')\n",
    "#     file.write(terms_str)\n",
    "# print(f\"Unique terms from Column 1 and Column 3 exported to {txt_file_path}\")"
   ]
  },
  {
   "cell_type": "code",
   "execution_count": null,
   "metadata": {},
   "outputs": [],
   "source": []
  },
  {
   "cell_type": "code",
   "execution_count": null,
   "metadata": {},
   "outputs": [],
   "source": [
    "# Assuming config and df are already defined and imported\n",
    "from pathlib import Path\n",
    "import pandas as pd\n",
    "\n",
    "txt_file_path = Path(config.DATA_DIR) / 'terms_and_synonyms.txt'\n",
    "\n",
    "# Corrected: Concatenate the two columns\n",
    "all_terms = pd.concat([df['term'], df['synonyms']])\n",
    "\n",
    "# Remove duplicates\n",
    "unique_terms = all_terms.drop_duplicates()\n",
    "\n",
    "# Convert to string and join with commas\n",
    "terms_str = ','.join(unique_terms.astype(str))\n",
    "\n",
    "# Export to a text file\n",
    "with open(txt_file_path, 'w') as file:\n",
    "    file.write(terms_str)\n",
    "\n",
    "print(f\"Unique terms from Column 1 and Column 3 exported to {txt_file_path}\")"
   ]
  }
 ],
 "metadata": {
  "kernelspec": {
   "display_name": "virtenvEnviDis",
   "language": "python",
   "name": "python3"
  },
  "language_info": {
   "codemirror_mode": {
    "name": "ipython",
    "version": 3
   },
   "file_extension": ".py",
   "mimetype": "text/x-python",
   "name": "python",
   "nbconvert_exporter": "python",
   "pygments_lexer": "ipython3",
   "version": "3.12.4"
  }
 },
 "nbformat": 4,
 "nbformat_minor": 2
}
