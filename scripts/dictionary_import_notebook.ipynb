{
 "cells": [
  {
   "cell_type": "markdown",
   "metadata": {},
   "source": [
    "## Preamble "
   ]
  },
  {
   "cell_type": "code",
   "execution_count": 1,
   "metadata": {},
   "outputs": [
    {
     "name": "stdout",
     "output_type": "stream",
     "text": [
      "config loaded\n",
      "Dictionary data succesfully loaded\n"
     ]
    }
   ],
   "source": [
    "from pathlib import Path\n",
    "from config_loader import cfg\n",
    "from dictionaries_loader import env_phen\n",
    "import pandas as pd"
   ]
  },
  {
   "cell_type": "markdown",
   "metadata": {},
   "source": [
    "## Load the raw dictionary"
   ]
  },
  {
   "cell_type": "code",
   "execution_count": 2,
   "metadata": {},
   "outputs": [],
   "source": [
    "dict_df = pd.read_excel(env_phen.file_path)"
   ]
  },
  {
   "cell_type": "code",
   "execution_count": 8,
   "metadata": {},
   "outputs": [],
   "source": [
    "# Join the config.DATA_DIR with the relative path to the CSV file\n",
    "csv_file = Path(cfg.PROC_DATA_DIR) / 'dictionaries' / 'environmentalphenomena_dictionary_v1.csv'\n",
    "# # Convert the DataFrame to CSV\n",
    "dict_df.to_csv(csv_file, index=False)"
   ]
  },
  {
   "cell_type": "markdown",
   "metadata": {},
   "source": [
    "## Process the dictionary "
   ]
  },
  {
   "cell_type": "markdown",
   "metadata": {},
   "source": [
    "### Clean Data "
   ]
  },
  {
   "cell_type": "code",
   "execution_count": 4,
   "metadata": {},
   "outputs": [],
   "source": [
    "\n",
    "# Lowercase\n",
    "dict_df['term'] = dict_df['term'].str.lower()\n",
    "dict_df['synonyms'] = dict_df['synonyms'].str.lower()\n",
    "\n",
    "# Strip traling and leading whitespace\n",
    "dict_df['term'] = dict_df['term'].str.strip()\n",
    "dict_df['synonyms'] = dict_df['synonyms'].str.strip()\n",
    "\n",
    "# This fixes problem where some synonyms had trailing semicolons\n",
    "# Function to iteratively strip trailing non-alphabetic characters\n",
    "\n",
    "def strip_trailing_non_letters(s):\n",
    "    if isinstance(s, str):  # Check if the input is a string\n",
    "        while s and not s[-1].isalpha():  # Keep stripping while the last character is not alphabetic\n",
    "            s = s[:-1]  # Remove the last character\n",
    "    return s  # Return the original value if not a string or the cleaned string\n",
    "\n",
    "dict_df['synonyms'] = dict_df['synonyms'].apply(strip_trailing_non_letters)"
   ]
  },
  {
   "cell_type": "markdown",
   "metadata": {},
   "source": [
    "### Export all terms and synonyms in a line deliminated .txt file"
   ]
  },
  {
   "cell_type": "code",
   "execution_count": 7,
   "metadata": {},
   "outputs": [
    {
     "name": "stdout",
     "output_type": "stream",
     "text": [
      "Column 'entity' successfully exported to c:\\Users\\callebalik\\Code\\EnviDis\\data\\processed\\vocabs\\environmental_phenoma_vocab.txt with 464 lines.\n"
     ]
    }
   ],
   "source": [
    "from dictionary_generator import get_all_terms_and_synonyms_df, export_column_to_txt\n",
    "\n",
    "# Call the function to create a new dataframe\n",
    "all_terms_df = get_all_terms_and_synonyms_df(dict_df)\n",
    "\n",
    "# Export the dictionary\n",
    "export_column_to_txt(all_terms_df, 'entity', f'{cfg.PROC_DATA_DIR}/vocabs/', 'vocab', env_phen.name.lower().replace(\" \", \"_\"))"
   ]
  }
 ],
 "metadata": {
  "kernelspec": {
   "display_name": "virtenvEnviDis",
   "language": "python",
   "name": "python3"
  },
  "language_info": {
   "codemirror_mode": {
    "name": "ipython",
    "version": 3
   },
   "file_extension": ".py",
   "mimetype": "text/x-python",
   "name": "python",
   "nbconvert_exporter": "python",
   "pygments_lexer": "ipython3",
   "version": "3.12.4"
  }
 },
 "nbformat": 4,
 "nbformat_minor": 2
}
