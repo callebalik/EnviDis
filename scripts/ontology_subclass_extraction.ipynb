{
 "cells": [
  {
   "cell_type": "markdown",
   "metadata": {},
   "source": [
    "## Preamble"
   ]
  },
  {
   "cell_type": "code",
   "execution_count": 8,
   "metadata": {},
   "outputs": [],
   "source": [
    "import matplotlib.pyplot as plt\n",
    "import networkx as nx\n",
    "from owlready2 import get_ontology, Thing, IRIS"
   ]
  },
  {
   "cell_type": "markdown",
   "metadata": {},
   "source": [
    "## Load ontologies"
   ]
  },
  {
   "cell_type": "code",
   "execution_count": 9,
   "metadata": {},
   "outputs": [],
   "source": [
    "# Load the ontologies\n",
    "from ontologies_loader import envo\n",
    "onto = get_ontology(envo.file_path).load()"
   ]
  },
  {
   "cell_type": "code",
   "execution_count": 10,
   "metadata": {},
   "outputs": [
    {
     "name": "stdout",
     "output_type": "stream",
     "text": [
      "[locstr('environmental system process', 'en')]\n",
      "[locstr('environmental system process', 'en')]\n",
      "Local copy corresponding to IRIS lookup\n",
      "environment system process class can be accessed at env_sys_process. Type: <class 'owlready2.entity.ThingClass'>\n"
     ]
    }
   ],
   "source": [
    "# For the envo ontology the class of interest was \"environmental system process\"\n",
    "env_sys_process_iri=\"http://purl.obolibrary.org/obo/ENVO_02500000\"  # This root class for environmental system process, which is the class that we are interested in.\n",
    "\n",
    "# Testing that local copy of envo gets the same class as calling the class using IRIS dictionary lookup\n",
    "env_sys_process_iris = IRIS[env_sys_process_iri]\n",
    "env_sys_process = onto.search(iri=env_sys_process_iri)[0]\n",
    "\n",
    "print(env_sys_process_iris.label)\n",
    "print(env_sys_process.label)\n",
    "\n",
    "if env_sys_process_iris == env_sys_process:\n",
    "    print(\"Local copy corresponding to IRIS lookup\")\n",
    "    print(f\"environment system process class can be accessed at env_sys_process. Type: {(type(env_sys_process))}\")"
   ]
  },
  {
   "cell_type": "markdown",
   "metadata": {},
   "source": [
    "## Get unique terms from environment system process class\n",
    "Ontologies can contain the same term in many places, as something can be a subclass of multiple things."
   ]
  },
  {
   "cell_type": "markdown",
   "metadata": {},
   "source": [
    "### Function to get subclasses"
   ]
  },
  {
   "cell_type": "code",
   "execution_count": 11,
   "metadata": {},
   "outputs": [],
   "source": [
    "# Adapted from Cell Line Ontology term extraction in https://colab.research.google.com/drive/1JJnBhsSkdNFFcvML1h97tpnwEyK0Pqmz#scrollTo=siZ3ddILxXJq. Accessed 20240810\n",
    "\n",
    "from owlready2 import ThingClass\n",
    "import pandas as pd\n",
    "\n",
    "def extract_subclasses_with_details(ontology_class, expected_class_iri=None):\n",
    "    # Check if ontology_class is an instance of owlready2.entity.ThingClass\n",
    "    if isinstance(ontology_class, ThingClass):\n",
    "        root_cls = ontology_class\n",
    "    else:\n",
    "        raise TypeError(f\"Expected an instance of owlready2.entity.ThingClass, got {type(ontology_class)}\")\n",
    "\n",
    "    if expected_class_iri is not None:\n",
    "        # Check if the provided IRI matches the class's IRI\n",
    "        if expected_class_iri != root_cls.iri:\n",
    "            raise ValueError(f\"Expected class IRI '{expected_class_iri}', but got '{root_cls.iri}'\")\n",
    "\n",
    "     # Lists to store subclass details\n",
    "    subclasses = []\n",
    "    labels = []\n",
    "    see_also_values = []\n",
    "\n",
    "    # Recursive function to get all subclasses and their details\n",
    "    def get_subclasses(root_cls):\n",
    "        for subclass in root_cls.subclasses():\n",
    "            # Collect subclass details\n",
    "            subclass_iri = subclass.iri\n",
    "            label = subclass.label.first() if subclass.label else None\n",
    "            see_also = subclass.seeAlso\n",
    "\n",
    "            # Append subclass details to lists\n",
    "            subclasses.append(subclass_iri)\n",
    "            labels.append(label)\n",
    "            see_also_values.append('|'.join(map(str, see_also)))\n",
    "\n",
    "            # Recursive call to process subclasses\n",
    "            get_subclasses(subclass)\n",
    "\n",
    "    # Start the recursive function\n",
    "    get_subclasses(root_cls)\n",
    "\n",
    "    # Create DataFrame\n",
    "    df = pd.DataFrame({\n",
    "        'owl:Class': subclasses,\n",
    "        'rdfs:label': labels,\n",
    "        'rdfs:seeAlso': see_also_values,\n",
    "    })\n",
    "\n",
    "    return df\n",
    "\n",
    "\n",
    "subclasses_df = extract_subclasses_with_details(env_sys_process, \"http://purl.obolibrary.org/obo/ENVO_02500000\")\n"
   ]
  },
  {
   "cell_type": "markdown",
   "metadata": {},
   "source": [
    "### Process Entities"
   ]
  },
  {
   "cell_type": "code",
   "execution_count": 12,
   "metadata": {},
   "outputs": [
    {
     "data": {
      "text/html": [
       "<div>\n",
       "<style scoped>\n",
       "    .dataframe tbody tr th:only-of-type {\n",
       "        vertical-align: middle;\n",
       "    }\n",
       "\n",
       "    .dataframe tbody tr th {\n",
       "        vertical-align: top;\n",
       "    }\n",
       "\n",
       "    .dataframe thead th {\n",
       "        text-align: right;\n",
       "    }\n",
       "</style>\n",
       "<table border=\"1\" class=\"dataframe\">\n",
       "  <thead>\n",
       "    <tr style=\"text-align: right;\">\n",
       "      <th></th>\n",
       "      <th>owl:Class</th>\n",
       "      <th>rdfs:label</th>\n",
       "      <th>rdfs:seeAlso</th>\n",
       "    </tr>\n",
       "  </thead>\n",
       "  <tbody>\n",
       "    <tr>\n",
       "      <th>507</th>\n",
       "      <td>http://purl.obolibrary.org/obo/ENVO_03000135</td>\n",
       "      <td>NSIDC blizzard</td>\n",
       "      <td></td>\n",
       "    </tr>\n",
       "    <tr>\n",
       "      <th>506</th>\n",
       "      <td>http://purl.obolibrary.org/obo/ENVO_03000134</td>\n",
       "      <td>WMO blizzard</td>\n",
       "      <td></td>\n",
       "    </tr>\n",
       "    <tr>\n",
       "      <th>624</th>\n",
       "      <td>http://purl.obolibrary.org/obo/ENVO_21001217</td>\n",
       "      <td>X-ray radiation</td>\n",
       "      <td></td>\n",
       "    </tr>\n",
       "    <tr>\n",
       "      <th>600</th>\n",
       "      <td>http://purl.obolibrary.org/obo/ENVO_01001217</td>\n",
       "      <td>X-ray stellar radiation</td>\n",
       "      <td></td>\n",
       "    </tr>\n",
       "    <tr>\n",
       "      <th>370</th>\n",
       "      <td>http://purl.obolibrary.org/obo/ENVO_01001394</td>\n",
       "      <td>accumulation of matter on aerosolised particles</td>\n",
       "      <td></td>\n",
       "    </tr>\n",
       "    <tr>\n",
       "      <th>...</th>\n",
       "      <td>...</td>\n",
       "      <td>...</td>\n",
       "      <td>...</td>\n",
       "    </tr>\n",
       "    <tr>\n",
       "      <th>43</th>\n",
       "      <td>http://purl.obolibrary.org/obo/ENVO_01000787</td>\n",
       "      <td>wildfire</td>\n",
       "      <td></td>\n",
       "    </tr>\n",
       "    <tr>\n",
       "      <th>333</th>\n",
       "      <td>http://purl.obolibrary.org/obo/ENVO_01001860</td>\n",
       "      <td>wind gust</td>\n",
       "      <td></td>\n",
       "    </tr>\n",
       "    <tr>\n",
       "      <th>516</th>\n",
       "      <td>http://purl.obolibrary.org/obo/ENVO_01001749</td>\n",
       "      <td>wind storm</td>\n",
       "      <td></td>\n",
       "    </tr>\n",
       "    <tr>\n",
       "      <th>508</th>\n",
       "      <td>http://purl.obolibrary.org/obo/ENVO_03000136</td>\n",
       "      <td>winter blizzard</td>\n",
       "      <td></td>\n",
       "    </tr>\n",
       "    <tr>\n",
       "      <th>26</th>\n",
       "      <td>http://purl.obolibrary.org/obo/ENVO_03000059</td>\n",
       "      <td>young ice formation process</td>\n",
       "      <td></td>\n",
       "    </tr>\n",
       "  </tbody>\n",
       "</table>\n",
       "<p>491 rows × 3 columns</p>\n",
       "</div>"
      ],
      "text/plain": [
       "                                        owl:Class  \\\n",
       "507  http://purl.obolibrary.org/obo/ENVO_03000135   \n",
       "506  http://purl.obolibrary.org/obo/ENVO_03000134   \n",
       "624  http://purl.obolibrary.org/obo/ENVO_21001217   \n",
       "600  http://purl.obolibrary.org/obo/ENVO_01001217   \n",
       "370  http://purl.obolibrary.org/obo/ENVO_01001394   \n",
       "..                                            ...   \n",
       "43   http://purl.obolibrary.org/obo/ENVO_01000787   \n",
       "333  http://purl.obolibrary.org/obo/ENVO_01001860   \n",
       "516  http://purl.obolibrary.org/obo/ENVO_01001749   \n",
       "508  http://purl.obolibrary.org/obo/ENVO_03000136   \n",
       "26   http://purl.obolibrary.org/obo/ENVO_03000059   \n",
       "\n",
       "                                          rdfs:label rdfs:seeAlso  \n",
       "507                                   NSIDC blizzard               \n",
       "506                                     WMO blizzard               \n",
       "624                                  X-ray radiation               \n",
       "600                          X-ray stellar radiation               \n",
       "370  accumulation of matter on aerosolised particles               \n",
       "..                                               ...          ...  \n",
       "43                                          wildfire               \n",
       "333                                        wind gust               \n",
       "516                                       wind storm               \n",
       "508                                  winter blizzard               \n",
       "26                       young ice formation process               \n",
       "\n",
       "[491 rows x 3 columns]"
      ]
     },
     "execution_count": 12,
     "metadata": {},
     "output_type": "execute_result"
    }
   ],
   "source": [
    "# Drop duplicates from the DataFrame\n",
    "subclasses_df = subclasses_df.drop_duplicates()\n",
    "\n",
    "# Sort by label for ease of data inspection\n",
    "subclasses_df = subclasses_df.sort_values('rdfs:label')\n",
    "\n",
    "subclasses_df"
   ]
  },
  {
   "cell_type": "markdown",
   "metadata": {},
   "source": [
    "### Export results "
   ]
  },
  {
   "cell_type": "code",
   "execution_count": 15,
   "metadata": {},
   "outputs": [],
   "source": [
    "from config_loader import cfg\n",
    "from pathlib import Path\n",
    "\n",
    "# Construct the paths using pathlib\n",
    "onto_path = Path(cfg.DATA_DIR) / \"raw\" / \"ontologies\" / \"envo.owl\"\n",
    "output_file_path = Path(cfg.RESULTS_DIR) / \"ontologies\" / \"envo_env_sys_process_unique_entities.tsv\""
   ]
  },
  {
   "cell_type": "code",
   "execution_count": 16,
   "metadata": {},
   "outputs": [],
   "source": [
    "# Save the DataFrame to a TSV file\n",
    "subclasses_df.to_csv(output_file_path, sep='\\t', index=False)"
   ]
  }
 ],
 "metadata": {
  "kernelspec": {
   "display_name": "envidis_dev_env",
   "language": "python",
   "name": "python3"
  },
  "language_info": {
   "codemirror_mode": {
    "name": "ipython",
    "version": 3
   },
   "file_extension": ".py",
   "mimetype": "text/x-python",
   "name": "python",
   "nbconvert_exporter": "python",
   "pygments_lexer": "ipython3",
   "version": "3.12.4"
  }
 },
 "nbformat": 4,
 "nbformat_minor": 2
}
